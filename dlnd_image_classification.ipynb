{
 "cells": [
  {
   "cell_type": "markdown",
   "metadata": {
    "collapsed": true,
    "deletable": true,
    "editable": true
   },
   "source": [
    "# Image Classification\n",
    "In this project, you'll classify images from the [CIFAR-10 dataset](https://www.cs.toronto.edu/~kriz/cifar.html).  The dataset consists of airplanes, dogs, cats, and other objects. You'll preprocess the images, then train a convolutional neural network on all the samples. The images need to be normalized and the labels need to be one-hot encoded.  You'll get to apply what you learned and build a convolutional, max pooling, dropout, and fully connected layers.  At the end, you'll get to see your neural network's predictions on the sample images.\n",
    "## Get the Data\n",
    "Run the following cell to download the [CIFAR-10 dataset for python](https://www.cs.toronto.edu/~kriz/cifar-10-python.tar.gz)."
   ]
  },
  {
   "cell_type": "code",
   "execution_count": 1,
   "metadata": {
    "collapsed": false,
    "deletable": true,
    "editable": true
   },
   "outputs": [
    {
     "name": "stdout",
     "output_type": "stream",
     "text": [
      "All files found!\n"
     ]
    }
   ],
   "source": [
    "\"\"\"\n",
    "DON'T MODIFY ANYTHING IN THIS CELL THAT IS BELOW THIS LINE\n",
    "\"\"\"\n",
    "from urllib.request import urlretrieve\n",
    "from os.path import isfile, isdir\n",
    "from tqdm import tqdm\n",
    "import problem_unittests as tests\n",
    "import tarfile\n",
    "\n",
    "cifar10_dataset_folder_path = 'cifar-10-batches-py'\n",
    "\n",
    "class DLProgress(tqdm):\n",
    "    last_block = 0\n",
    "\n",
    "    def hook(self, block_num=1, block_size=1, total_size=None):\n",
    "        self.total = total_size\n",
    "        self.update((block_num - self.last_block) * block_size)\n",
    "        self.last_block = block_num\n",
    "\n",
    "if not isfile('cifar-10-python.tar.gz'):\n",
    "    with DLProgress(unit='B', unit_scale=True, miniters=1, desc='CIFAR-10 Dataset') as pbar:\n",
    "        urlretrieve(\n",
    "            'https://www.cs.toronto.edu/~kriz/cifar-10-python.tar.gz',\n",
    "            'cifar-10-python.tar.gz',\n",
    "            pbar.hook)\n",
    "\n",
    "if not isdir(cifar10_dataset_folder_path):\n",
    "    with tarfile.open('cifar-10-python.tar.gz') as tar:\n",
    "        tar.extractall()\n",
    "        tar.close()\n",
    "\n",
    "\n",
    "tests.test_folder_path(cifar10_dataset_folder_path)"
   ]
  },
  {
   "cell_type": "markdown",
   "metadata": {
    "deletable": true,
    "editable": true
   },
   "source": [
    "## Explore the Data\n",
    "The dataset is broken into batches to prevent your machine from running out of memory.  The CIFAR-10 dataset consists of 5 batches, named `data_batch_1`, `data_batch_2`, etc.. Each batch contains the labels and images that are one of the following:\n",
    "* airplane\n",
    "* automobile\n",
    "* bird\n",
    "* cat\n",
    "* deer\n",
    "* dog\n",
    "* frog\n",
    "* horse\n",
    "* ship\n",
    "* truck\n",
    "\n",
    "Understanding a dataset is part of making predictions on the data.  Play around with the code cell below by changing the `batch_id` and `sample_id`. The `batch_id` is the id for a batch (1-5). The `sample_id` is the id for a image and label pair in the batch.\n",
    "\n",
    "Ask yourself \"What are all possible labels?\", \"What is the range of values for the image data?\", \"Are the labels in order or random?\".  Answers to questions like these will help you preprocess the data and end up with better predictions."
   ]
  },
  {
   "cell_type": "code",
   "execution_count": 2,
   "metadata": {
    "collapsed": false,
    "deletable": true,
    "editable": true
   },
   "outputs": [
    {
     "name": "stdout",
     "output_type": "stream",
     "text": [
      "\n",
      "Stats of batch 1:\n",
      "Samples: 10000\n",
      "Label Counts: {0: 1005, 1: 974, 2: 1032, 3: 1016, 4: 999, 5: 937, 6: 1030, 7: 1001, 8: 1025, 9: 981}\n",
      "First 20 Labels: [6, 9, 9, 4, 1, 1, 2, 7, 8, 3, 4, 7, 7, 2, 9, 9, 9, 3, 2, 6]\n",
      "\n",
      "Example of Image 5:\n",
      "Image - Min Value: 0 Max Value: 252\n",
      "Image - Shape: (32, 32, 3)\n",
      "Label - Label Id: 1 Name: automobile\n"
     ]
    },
    {
     "data": {
      "image/png": "[encoded data removed]",
      "text/plain": [
       "<matplotlib.figure.Figure at 0x7f2997b7b320>"
      ]
     },
     "metadata": {
      "image/png": {
       "height": 250,
       "width": 253
      }
     },
     "output_type": "display_data"
    }
   ],
   "source": [
    "%matplotlib inline\n",
    "%config InlineBackend.figure_format = 'retina'\n",
    "\n",
    "import helper\n",
    "import numpy as np\n",
    "\n",
    "# Explore the dataset\n",
    "batch_id = 1\n",
    "sample_id = 5\n",
    "helper.display_stats(cifar10_dataset_folder_path, batch_id, sample_id)"
   ]
  },
  {
   "cell_type": "markdown",
   "metadata": {
    "deletable": true,
    "editable": true
   },
   "source": [
    "## Implement Preprocess Functions\n",
    "### Normalize\n",
    "In the cell below, implement the `normalize` function to take in image data, `x`, and return it as a normalized Numpy array. The values should be in the range of 0 to 1, inclusive.  The return object should be the same shape as `x`."
   ]
  },
  {
   "cell_type": "code",
   "execution_count": 3,
   "metadata": {
    "collapsed": false,
    "deletable": true,
    "editable": true
   },
   "outputs": [
    {
     "name": "stdout",
     "output_type": "stream",
     "text": [
      "Tests Passed\n"
     ]
    }
   ],
   "source": [
    "def normalize(x):\n",
    "    \"\"\"\n",
    "    Normalize a list of sample image data in the range of 0 to 1\n",
    "    : x: List of image data.  The image shape is (32, 32, 3)\n",
    "    : return: Numpy array of normalize data\n",
    "    \"\"\"\n",
    "    # TODO: Implement Function\n",
    "    image_min = x.min()\n",
    "    image_max = x.max()\n",
    "    new_min = 0\n",
    "    new_max = 1\n",
    "    return (x - image_min) * ((new_max - new_min) / (image_max - image_min)) + new_min\n",
    "\n",
    "\n",
    "\"\"\"\n",
    "DON'T MODIFY ANYTHING IN THIS CELL THAT IS BELOW THIS LINE\n",
    "\"\"\"\n",
    "tests.test_normalize(normalize)"
   ]
  },
  {
   "cell_type": "markdown",
   "metadata": {
    "deletable": true,
    "editable": true
   },
   "source": [
    "### One-hot encode\n",
    "Just like the previous code cell, you'll be implementing a function for preprocessing.  This time, you'll implement the `one_hot_encode` function. The input, `x`, are a list of labels.  Implement the function to return the list of labels as One-Hot encoded Numpy array.  The possible values for labels are 0 to 9. The one-hot encoding function should return the same encoding for each value between each call to `one_hot_encode`.  Make sure to save the map of encodings outside the function.\n",
    "\n",
    "Hint: Don't reinvent the wheel."
   ]
  },
  {
   "cell_type": "code",
   "execution_count": 4,
   "metadata": {
    "collapsed": false,
    "deletable": true,
    "editable": true
   },
   "outputs": [
    {
     "name": "stdout",
     "output_type": "stream",
     "text": [
      "Tests Passed\n"
     ]
    }
   ],
   "source": [
    "num_classes = 10\n",
    "def one_hot_encode(x):\n",
    "    \"\"\"\n",
    "    One hot encode a list of sample labels. Return a one-hot encoded vector for each label.\n",
    "    : x: List of sample Labels\n",
    "    : return: Numpy array of one-hot encoded labels\n",
    "    \"\"\"\n",
    "    # TODO: Implement Function\n",
    "    return np.eye(num_classes)[x]\n",
    "\n",
    "\n",
    "\"\"\"\n",
    "DON'T MODIFY ANYTHING IN THIS CELL THAT IS BELOW THIS LINE\n",
    "\"\"\"\n",
    "tests.test_one_hot_encode(one_hot_encode)"
   ]
  },
  {
   "cell_type": "markdown",
   "metadata": {
    "deletable": true,
    "editable": true
   },
   "source": [
    "### Randomize Data\n",
    "As you saw from exploring the data above, the order of the samples are randomized.  It doesn't hurt to randomize it again, but you don't need to for this dataset."
   ]
  },
  {
   "cell_type": "markdown",
   "metadata": {
    "deletable": true,
    "editable": true
   },
   "source": [
    "## Preprocess all the data and save it\n",
    "Running the code cell below will preprocess all the CIFAR-10 data and save it to file. The code below also uses 10% of the training data for validation."
   ]
  },
  {
   "cell_type": "code",
   "execution_count": 5,
   "metadata": {
    "collapsed": false,
    "deletable": true,
    "editable": true
   },
   "outputs": [],
   "source": [
    "\"\"\"\n",
    "DON'T MODIFY ANYTHING IN THIS CELL\n",
    "\"\"\"\n",
    "# Preprocess Training, Validation, and Testing Data\n",
    "helper.preprocess_and_save_data(cifar10_dataset_folder_path, normalize, one_hot_encode)"
   ]
  },
  {
   "cell_type": "markdown",
   "metadata": {
    "deletable": true,
    "editable": true
   },
   "source": [
    "# Check Point\n",
    "This is your first checkpoint.  If you ever decide to come back to this notebook or have to restart the notebook, you can start from here.  The preprocessed data has been saved to disk."
   ]
  },
  {
   "cell_type": "code",
   "execution_count": 6,
   "metadata": {
    "collapsed": true,
    "deletable": true,
    "editable": true
   },
   "outputs": [],
   "source": [
    "\"\"\"\n",
    "DON'T MODIFY ANYTHING IN THIS CELL\n",
    "\"\"\"\n",
    "import pickle\n",
    "import problem_unittests as tests\n",
    "import helper\n",
    "\n",
    "# Load the Preprocessed Validation data\n",
    "valid_features, valid_labels = pickle.load(open('preprocess_validation.p', mode='rb'))"
   ]
  },
  {
   "cell_type": "markdown",
   "metadata": {
    "deletable": true,
    "editable": true
   },
   "source": [
    "## Build the network\n",
    "For the neural network, you'll build each layer into a function.  Most of the code you've seen has been outside of functions. To test your code more thoroughly, we require that you put each layer in a function.  This allows us to give you better feedback and test for simple mistakes using our unittests before you submit your project.\n",
    "\n",
    ">**Note:** If you're finding it hard to dedicate enough time for this course each week, we've provided a small shortcut to this part of the project. In the next couple of problems, you'll have the option to use classes from the [TensorFlow Layers](https://www.tensorflow.org/api_docs/python/tf/layers) or [TensorFlow Layers (contrib)](https://www.tensorflow.org/api_guides/python/contrib.layers) packages to build each layer, except the layers you build in the \"Convolutional and Max Pooling Layer\" section.  TF Layers is similar to Keras's and TFLearn's abstraction to layers, so it's easy to pickup.\n",
    "\n",
    ">However, if you would like to get the most out of this course, try to solve all the problems _without_ using anything from the TF Layers packages. You **can** still use classes from other packages that happen to have the same name as ones you find in TF Layers! For example, instead of using the TF Layers version of the `conv2d` class, [tf.layers.conv2d](https://www.tensorflow.org/api_docs/python/tf/layers/conv2d), you would want to use the TF Neural Network version of `conv2d`, [tf.nn.conv2d](https://www.tensorflow.org/api_docs/python/tf/nn/conv2d). \n",
    "\n",
    "Let's begin!\n",
    "\n",
    "### Input\n",
    "The neural network needs to read the image data, one-hot encoded labels, and dropout keep probability. Implement the following functions\n",
    "* Implement `neural_net_image_input`\n",
    " * Return a [TF Placeholder](https://www.tensorflow.org/api_docs/python/tf/placeholder)\n",
    " * Set the shape using `image_shape` with batch size set to `None`.\n",
    " * Name the TensorFlow placeholder \"x\" using the TensorFlow `name` parameter in the [TF Placeholder](https://www.tensorflow.org/api_docs/python/tf/placeholder).\n",
    "* Implement `neural_net_label_input`\n",
    " * Return a [TF Placeholder](https://www.tensorflow.org/api_docs/python/tf/placeholder)\n",
    " * Set the shape using `n_classes` with batch size set to `None`.\n",
    " * Name the TensorFlow placeholder \"y\" using the TensorFlow `name` parameter in the [TF Placeholder](https://www.tensorflow.org/api_docs/python/tf/placeholder).\n",
    "* Implement `neural_net_keep_prob_input`\n",
    " * Return a [TF Placeholder](https://www.tensorflow.org/api_docs/python/tf/placeholder) for dropout keep probability.\n",
    " * Name the TensorFlow placeholder \"keep_prob\" using the TensorFlow `name` parameter in the [TF Placeholder](https://www.tensorflow.org/api_docs/python/tf/placeholder).\n",
    "\n",
    "These names will be used at the end of the project to load your saved model.\n",
    "\n",
    "Note: `None` for shapes in TensorFlow allow for a dynamic size."
   ]
  },
  {
   "cell_type": "code",
   "execution_count": 7,
   "metadata": {
    "collapsed": false,
    "deletable": true,
    "editable": true
   },
   "outputs": [
    {
     "name": "stdout",
     "output_type": "stream",
     "text": [
      "Image Input Tests Passed.\n",
      "Label Input Tests Passed.\n",
      "Keep Prob Tests Passed.\n"
     ]
    }
   ],
   "source": [
    "import tensorflow as tf\n",
    "\n",
    "def neural_net_image_input(image_shape):\n",
    "    \"\"\"\n",
    "    Return a Tensor for a batch of image input\n",
    "    : image_shape: Shape of the images\n",
    "    : return: Tensor for image input.\n",
    "    \"\"\"\n",
    "    # TODO: Implement Function\n",
    "    return tf.placeholder(tf.float32, shape=[None, *image_shape], name='x')\n",
    "\n",
    "\n",
    "def neural_net_label_input(n_classes):\n",
    "    \"\"\"\n",
    "    Return a Tensor for a batch of label input\n",
    "    : n_classes: Number of classes\n",
    "    : return: Tensor for label input.\n",
    "    \"\"\"\n",
    "    # TODO: Implement Function\n",
    "    return tf.placeholder(tf.float32, shape=[None, n_classes], name='y')\n",
    "\n",
    "\n",
    "def neural_net_keep_prob_input():\n",
    "    \"\"\"\n",
    "    Return a Tensor for keep probability\n",
    "    : return: Tensor for keep probability.\n",
    "    \"\"\"\n",
    "    # TODO: Implement Function\n",
    "    return tf.placeholder(tf.float32, name='keep_prob')\n",
    "\n",
    "\n",
    "\"\"\"\n",
    "DON'T MODIFY ANYTHING IN THIS CELL THAT IS BELOW THIS LINE\n",
    "\"\"\"\n",
    "tf.reset_default_graph()\n",
    "tests.test_nn_image_inputs(neural_net_image_input)\n",
    "tests.test_nn_label_inputs(neural_net_label_input)\n",
    "tests.test_nn_keep_prob_inputs(neural_net_keep_prob_input)"
   ]
  },
  {
   "cell_type": "markdown",
   "metadata": {
    "deletable": true,
    "editable": true
   },
   "source": [
    "### Convolution and Max Pooling Layer\n",
    "Convolution layers have a lot of success with images. For this code cell, you should implement the function `conv2d_maxpool` to apply convolution then max pooling:\n",
    "* Create the weight and bias using `conv_ksize`, `conv_num_outputs` and the shape of `x_tensor`.\n",
    "* Apply a convolution to `x_tensor` using weight and `conv_strides`.\n",
    " * We recommend you use same padding, but you're welcome to use any padding.\n",
    "* Add bias\n",
    "* Add a nonlinear activation to the convolution.\n",
    "* Apply Max Pooling using `pool_ksize` and `pool_strides`.\n",
    " * We recommend you use same padding, but you're welcome to use any padding.\n",
    "\n",
    "**Note:** You **can't** use [TensorFlow Layers](https://www.tensorflow.org/api_docs/python/tf/layers) or [TensorFlow Layers (contrib)](https://www.tensorflow.org/api_guides/python/contrib.layers) for **this** layer, but you can still use TensorFlow's [Neural Network](https://www.tensorflow.org/api_docs/python/tf/nn) package. You may still use the shortcut option for all the **other** layers."
   ]
  },
  {
   "cell_type": "code",
   "execution_count": 8,
   "metadata": {
    "collapsed": false,
    "deletable": true,
    "editable": true
   },
   "outputs": [
    {
     "name": "stdout",
     "output_type": "stream",
     "text": [
      "Tests Passed\n"
     ]
    }
   ],
   "source": [
    "def conv2d_maxpool(x_tensor, conv_num_outputs, conv_ksize, conv_strides, pool_ksize, pool_strides):\n",
    "    \"\"\"\n",
    "    Apply convolution then max pooling to x_tensor\n",
    "    :param x_tensor: TensorFlow Tensor\n",
    "    :param conv_num_outputs: Number of outputs for the convolutional layer\n",
    "    :param conv_ksize: kernal size 2-D Tuple for the convolutional layer\n",
    "    :param conv_strides: Stride 2-D Tuple for convolution\n",
    "    :param pool_ksize: kernal size 2-D Tuple for pool\n",
    "    :param pool_strides: Stride 2-D Tuple for pool\n",
    "    : return: A tensor that represents convolution and max pooling of x_tensor\n",
    "    \"\"\"\n",
    "    # TODO: Implement Function\n",
    "    # Weights: shape = [h, w, input_depth, num_outputs], small standard deviation\n",
    "    w = tf.Variable(tf.truncated_normal([*conv_ksize, int(x_tensor.shape[3]), conv_num_outputs], stddev=0.05))\n",
    "    # Bias: shape = num_outputs\n",
    "    b = tf.Variable(tf.zeros(conv_num_outputs))\n",
    "    \n",
    "    # Convlution\n",
    "    layer = tf.nn.conv2d(x_tensor, w, [1, *conv_strides, 1], 'SAME')\n",
    "    # Add bias to conv\n",
    "    layer = tf.nn.bias_add(layer, b)\n",
    "    \n",
    "    # Apply a nonlinear acitvation\n",
    "    layer = tf.nn.relu(layer)\n",
    "    \n",
    "    # Max Pooling\n",
    "    layer = tf.nn.max_pool(layer, [1, *pool_ksize, 1], [1, *pool_strides, 1], 'SAME')\n",
    "    \n",
    "    # Return tensor that represents convolution and max pooling of x_tensor\n",
    "    return layer \n",
    "\n",
    "\n",
    "\"\"\"\n",
    "DON'T MODIFY ANYTHING IN THIS CELL THAT IS BELOW THIS LINE\n",
    "\"\"\"\n",
    "tests.test_con_pool(conv2d_maxpool)"
   ]
  },
  {
   "cell_type": "markdown",
   "metadata": {
    "deletable": true,
    "editable": true
   },
   "source": [
    "### Flatten Layer\n",
    "Implement the `flatten` function to change the dimension of `x_tensor` from a 4-D tensor to a 2-D tensor.  The output should be the shape (*Batch Size*, *Flattened Image Size*). Shortcut option: you can use classes from the [TensorFlow Layers](https://www.tensorflow.org/api_docs/python/tf/layers) or [TensorFlow Layers (contrib)](https://www.tensorflow.org/api_guides/python/contrib.layers) packages for this layer. For more of a challenge, only use other TensorFlow packages."
   ]
  },
  {
   "cell_type": "code",
   "execution_count": 9,
   "metadata": {
    "collapsed": false,
    "deletable": true,
    "editable": true
   },
   "outputs": [
    {
     "name": "stdout",
     "output_type": "stream",
     "text": [
      "Tests Passed\n"
     ]
    }
   ],
   "source": [
    "def flatten(x_tensor):\n",
    "    \"\"\"\n",
    "    Flatten x_tensor to (Batch Size, Flattened Image Size)\n",
    "    : x_tensor: A tensor of size (Batch Size, ...), where ... are the image dimensions.\n",
    "    : return: A tensor of size (Batch Size, Flattened Image Size).\n",
    "    \"\"\"\n",
    "    # TODO: Implement Function\n",
    "    # Flattened Image Size = [Batch Size, W*H*D]\n",
    "    w = int(x_tensor.shape[1])\n",
    "    h = int(x_tensor.shape[2])\n",
    "    d = int(x_tensor.shape[3])\n",
    "    \n",
    "    return tf.reshape(x_tensor, [-1, w*h*d])\n",
    "\n",
    "\n",
    "\"\"\"\n",
    "DON'T MODIFY ANYTHING IN THIS CELL THAT IS BELOW THIS LINE\n",
    "\"\"\"\n",
    "tests.test_flatten(flatten)"
   ]
  },
  {
   "cell_type": "markdown",
   "metadata": {
    "deletable": true,
    "editable": true
   },
   "source": [
    "### Fully-Connected Layer\n",
    "Implement the `fully_conn` function to apply a fully connected layer to `x_tensor` with the shape (*Batch Size*, *num_outputs*). Shortcut option: you can use classes from the [TensorFlow Layers](https://www.tensorflow.org/api_docs/python/tf/layers) or [TensorFlow Layers (contrib)](https://www.tensorflow.org/api_guides/python/contrib.layers) packages for this layer. For more of a challenge, only use other TensorFlow packages."
   ]
  },
  {
   "cell_type": "code",
   "execution_count": 10,
   "metadata": {
    "collapsed": false,
    "deletable": true,
    "editable": true
   },
   "outputs": [
    {
     "name": "stdout",
     "output_type": "stream",
     "text": [
      "Tests Passed\n"
     ]
    }
   ],
   "source": [
    "def fully_conn(x_tensor, num_outputs):\n",
    "    \"\"\"\n",
    "    Apply a fully connected layer to x_tensor using weight and bias\n",
    "    : x_tensor: A 2-D tensor where the first dimension is batch size.\n",
    "    : num_outputs: The number of output that the new tensor should be.\n",
    "    : return: A 2-D tensor where the second dimension is num_outputs.\n",
    "    \"\"\"\n",
    "    # TODO: Implement Function\n",
    "    # Weights: shape = [input, num_outputs], small standard deviation\n",
    "    w = tf.Variable(tf.truncated_normal([int(x_tensor.shape[1]), num_outputs], stddev=0.05))\n",
    "    \n",
    "    # Biases: shape = num_outputs\n",
    "    b = tf.Variable(tf.zeros(num_outputs))\n",
    "    \n",
    "    # x_tensor * w\n",
    "    full_connected = tf.matmul(x_tensor, w)\n",
    "    # Add bias\n",
    "    full_connected = tf.nn.bias_add(full_connected, b)\n",
    "    \n",
    "    # Apply a non-linear activation function\n",
    "    full_connected = tf.nn.relu(full_connected)\n",
    "    \n",
    "    # Return tensor that represents fully connected layer\n",
    "    return full_connected\n",
    "\n",
    "\n",
    "\"\"\"\n",
    "DON'T MODIFY ANYTHING IN THIS CELL THAT IS BELOW THIS LINE\n",
    "\"\"\"\n",
    "tests.test_fully_conn(fully_conn)"
   ]
  },
  {
   "cell_type": "markdown",
   "metadata": {
    "deletable": true,
    "editable": true
   },
   "source": [
    "### Output Layer\n",
    "Implement the `output` function to apply a fully connected layer to `x_tensor` with the shape (*Batch Size*, *num_outputs*). Shortcut option: you can use classes from the [TensorFlow Layers](https://www.tensorflow.org/api_docs/python/tf/layers) or [TensorFlow Layers (contrib)](https://www.tensorflow.org/api_guides/python/contrib.layers) packages for this layer. For more of a challenge, only use other TensorFlow packages.\n",
    "\n",
    "**Note:** Activation, softmax, or cross entropy should **not** be applied to this."
   ]
  },
  {
   "cell_type": "code",
   "execution_count": 11,
   "metadata": {
    "collapsed": false,
    "deletable": true,
    "editable": true
   },
   "outputs": [
    {
     "name": "stdout",
     "output_type": "stream",
     "text": [
      "Tests Passed\n"
     ]
    }
   ],
   "source": [
    "def output(x_tensor, num_outputs):\n",
    "    \"\"\"\n",
    "    Apply a output layer to x_tensor using weight and bias\n",
    "    : x_tensor: A 2-D tensor where the first dimension is batch size.\n",
    "    : num_outputs: The number of output that the new tensor should be.\n",
    "    : return: A 2-D tensor where the second dimension is num_outputs.\n",
    "    \"\"\"\n",
    "    # TODO: Implement Function\n",
    "    # Weights: shape = [input, num_outputs], small standard deviation\n",
    "    w = tf.Variable(tf.truncated_normal([int(x_tensor.shape[1]), num_outputs], stddev=0.05))\n",
    "    \n",
    "    # Biases: shape = num_outputs\n",
    "    b = tf.Variable(tf.zeros(num_outputs))\n",
    "    \n",
    "    # Apply a linear activation function\n",
    "    out = tf.matmul(x_tensor, w)\n",
    "    out = tf.nn.bias_add(out, b)\n",
    "    \n",
    "    return out\n",
    "\n",
    "\n",
    "\"\"\"\n",
    "DON'T MODIFY ANYTHING IN THIS CELL THAT IS BELOW THIS LINE\n",
    "\"\"\"\n",
    "tests.test_output(output)"
   ]
  },
  {
   "cell_type": "markdown",
   "metadata": {
    "deletable": true,
    "editable": true
   },
   "source": [
    "### Create Convolutional Model\n",
    "Implement the function `conv_net` to create a convolutional neural network model. The function takes in a batch of images, `x`, and outputs logits.  Use the layers you created above to create this model:\n",
    "\n",
    "* Apply 1, 2, or 3 Convolution and Max Pool layers\n",
    "* Apply a Flatten Layer\n",
    "* Apply 1, 2, or 3 Fully Connected Layers\n",
    "* Apply an Output Layer\n",
    "* Return the output\n",
    "* Apply [TensorFlow's Dropout](https://www.tensorflow.org/api_docs/python/tf/nn/dropout) to one or more layers in the model using `keep_prob`. "
   ]
  },
  {
   "cell_type": "code",
   "execution_count": 12,
   "metadata": {
    "collapsed": false,
    "deletable": true,
    "editable": true
   },
   "outputs": [
    {
     "name": "stdout",
     "output_type": "stream",
     "text": [
      "Neural Network Built!\n"
     ]
    }
   ],
   "source": [
    "def conv_net(x, keep_prob):\n",
    "    \"\"\"\n",
    "    Create a convolutional neural network model\n",
    "    : x: Placeholder tensor that holds image data.\n",
    "    : keep_prob: Placeholder tensor that hold dropout keep probability.\n",
    "    : return: Tensor that represents logits\n",
    "    \"\"\"\n",
    "    # TODO: Apply 1, 2, or 3 Convolution and Max Pool layers\n",
    "    #    Play around with different number of outputs, kernel size and stride\n",
    "    # Function Definition from Above:\n",
    "    #    conv2d_maxpool(x_tensor, conv_num_outputs, conv_ksize, conv_strides, pool_ksize, pool_strides)\n",
    "    conv_size = (3,3)\n",
    "    conv_stride = (1,1)\n",
    "    pool_size = (2,2)\n",
    "    pool_stride = (2,2)\n",
    "    \n",
    "    conv1 = conv2d_maxpool(x, 32, conv_size, conv_stride, pool_size, pool_stride)\n",
    "    conv2 = conv2d_maxpool(conv1, 64, conv_size, conv_stride, pool_size, pool_stride)\n",
    "    conv3 = conv2d_maxpool(conv2, 128, conv_size, conv_stride, pool_size, pool_stride)\n",
    "\n",
    "    # TODO: Apply a Flatten Layer\n",
    "    # Function Definition from Above:\n",
    "    #   flatten(x_tensor)\n",
    "    flat = flatten(conv3)\n",
    "\n",
    "    # TODO: Apply 1, 2, or 3 Fully Connected Layers\n",
    "    #    Play around with different number of outputs\n",
    "    # Function Definition from Above:\n",
    "    #   fully_conn(x_tensor, num_outputs)\n",
    "    full_con1 = fully_conn(flat, 4096)\n",
    "    dropout_fc1 = tf.nn.dropout(full_con1, keep_prob)\n",
    "    full_con2 = fully_conn(dropout_fc1, 2048)\n",
    "    dropout_fc2 = tf.nn.dropout(full_con2, keep_prob)\n",
    "    full_con3 = fully_conn(dropout_fc2, 1024)\n",
    "    dropout_fc3 = tf.nn.dropout(full_con3, keep_prob)\n",
    "    \n",
    "    # TODO: Apply an Output Layer\n",
    "    #    Set this to the number of classes\n",
    "    # Function Definition from Above:\n",
    "    #   output(x_tensor, num_outputs)\n",
    "    out = output(dropout_fc3, 10)\n",
    "    \n",
    "    # TODO: return output\n",
    "    return out\n",
    "\n",
    "\n",
    "\"\"\"\n",
    "DON'T MODIFY ANYTHING IN THIS CELL THAT IS BELOW THIS LINE\n",
    "\"\"\"\n",
    "\n",
    "##############################\n",
    "## Build the Neural Network ##\n",
    "##############################\n",
    "\n",
    "# Remove previous weights, bias, inputs, etc..\n",
    "tf.reset_default_graph()\n",
    "\n",
    "# Inputs\n",
    "x = neural_net_image_input((32, 32, 3))\n",
    "y = neural_net_label_input(10)\n",
    "keep_prob = neural_net_keep_prob_input()\n",
    "\n",
    "# Model\n",
    "logits = conv_net(x, keep_prob)\n",
    "\n",
    "# Name logits Tensor, so that is can be loaded from disk after training\n",
    "logits = tf.identity(logits, name='logits')\n",
    "\n",
    "# Loss and Optimizer\n",
    "cost = tf.reduce_mean(tf.nn.softmax_cross_entropy_with_logits(logits=logits, labels=y))\n",
    "optimizer = tf.train.AdamOptimizer().minimize(cost)\n",
    "\n",
    "# Accuracy\n",
    "correct_pred = tf.equal(tf.argmax(logits, 1), tf.argmax(y, 1))\n",
    "accuracy = tf.reduce_mean(tf.cast(correct_pred, tf.float32), name='accuracy')\n",
    "\n",
    "tests.test_conv_net(conv_net)"
   ]
  },
  {
   "cell_type": "markdown",
   "metadata": {
    "deletable": true,
    "editable": true
   },
   "source": [
    "## Train the Neural Network\n",
    "### Single Optimization\n",
    "Implement the function `train_neural_network` to do a single optimization.  The optimization should use `optimizer` to optimize in `session` with a `feed_dict` of the following:\n",
    "* `x` for image input\n",
    "* `y` for labels\n",
    "* `keep_prob` for keep probability for dropout\n",
    "\n",
    "This function will be called for each batch, so `tf.global_variables_initializer()` has already been called.\n",
    "\n",
    "Note: Nothing needs to be returned. This function is only optimizing the neural network."
   ]
  },
  {
   "cell_type": "code",
   "execution_count": 13,
   "metadata": {
    "collapsed": false,
    "deletable": true,
    "editable": true
   },
   "outputs": [
    {
     "name": "stdout",
     "output_type": "stream",
     "text": [
      "Tests Passed\n"
     ]
    }
   ],
   "source": [
    "def train_neural_network(session, optimizer, keep_probability, feature_batch, label_batch):\n",
    "    \"\"\"\n",
    "    Optimize the session on a batch of images and labels\n",
    "    : session: Current TensorFlow session\n",
    "    : optimizer: TensorFlow optimizer function\n",
    "    : keep_probability: keep probability\n",
    "    : feature_batch: Batch of Numpy image data\n",
    "    : label_batch: Batch of Numpy label data\n",
    "    \"\"\"\n",
    "    # TODO: Implement Function\n",
    "    session.run(optimizer, feed_dict={x:feature_batch, y:label_batch, keep_prob:keep_probability})\n",
    "\n",
    "\n",
    "\"\"\"\n",
    "DON'T MODIFY ANYTHING IN THIS CELL THAT IS BELOW THIS LINE\n",
    "\"\"\"\n",
    "tests.test_train_nn(train_neural_network)"
   ]
  },
  {
   "cell_type": "markdown",
   "metadata": {
    "deletable": true,
    "editable": true
   },
   "source": [
    "### Show Stats\n",
    "Implement the function `print_stats` to print loss and validation accuracy.  Use the global variables `valid_features` and `valid_labels` to calculate validation accuracy.  Use a keep probability of `1.0` to calculate the loss and validation accuracy."
   ]
  },
  {
   "cell_type": "code",
   "execution_count": 17,
   "metadata": {
    "collapsed": false,
    "deletable": true,
    "editable": true
   },
   "outputs": [],
   "source": [
    "def print_stats(session, feature_batch, label_batch, cost, accuracy):\n",
    "    \"\"\"\n",
    "    Print information about loss and validation accuracy\n",
    "    : session: Current TensorFlow session\n",
    "    : feature_batch: Batch of Numpy image data\n",
    "    : label_batch: Batch of Numpy label data\n",
    "    : cost: TensorFlow cost function\n",
    "    : accuracy: TensorFlow accuracy function\n",
    "    \"\"\"\n",
    "    # TODO: Implement Function\n",
    "    loss = session.run(cost, feed_dict={x:feature_batch, y:label_batch, keep_prob:1.0})\n",
    "    valid_acc = session.run(accuracy, feed_dict={x:valid_features, y:valid_labels, keep_prob:1.0})\n",
    "    print('Loss: {:.4f} Validation Accuracy: {:.4f}'.format(loss, valid_acc))"
   ]
  },
  {
   "cell_type": "markdown",
   "metadata": {
    "deletable": true,
    "editable": true
   },
   "source": [
    "### Hyperparameters\n",
    "Tune the following parameters:\n",
    "* Set `epochs` to the number of iterations until the network stops learning or start overfitting\n",
    "* Set `batch_size` to the highest number that your machine has memory for.  Most people set them to common sizes of memory:\n",
    " * 64\n",
    " * 128\n",
    " * 256\n",
    " * ...\n",
    "* Set `keep_probability` to the probability of keeping a node using dropout"
   ]
  },
  {
   "cell_type": "code",
   "execution_count": 15,
   "metadata": {
    "collapsed": true,
    "deletable": true,
    "editable": true
   },
   "outputs": [],
   "source": [
    "# TODO: Tune Parameters\n",
    "epochs = 30\n",
    "batch_size = 1024\n",
    "keep_probability = 0.65"
   ]
  },
  {
   "cell_type": "markdown",
   "metadata": {
    "deletable": true,
    "editable": true
   },
   "source": [
    "### Train on a Single CIFAR-10 Batch\n",
    "Instead of training the neural network on all the CIFAR-10 batches of data, let's use a single batch. This should save time while you iterate on the model to get a better accuracy.  Once the final validation accuracy is 50% or greater, run the model on all the data in the next section."
   ]
  },
  {
   "cell_type": "code",
   "execution_count": 18,
   "metadata": {
    "collapsed": false,
    "deletable": true,
    "editable": true,
    "scrolled": false
   },
   "outputs": [
    {
     "name": "stdout",
     "output_type": "stream",
     "text": [
      "Checking the Training on a Single Batch...\n",
      "Epoch  1, CIFAR-10 Batch 1:  Loss: 2.2767 Validation Accuracy: 0.1686\n",
      "Epoch  2, CIFAR-10 Batch 1:  Loss: 2.0935 Validation Accuracy: 0.2070\n",
      "Epoch  3, CIFAR-10 Batch 1:  Loss: 1.9982 Validation Accuracy: 0.2938\n",
      "Epoch  4, CIFAR-10 Batch 1:  Loss: 1.7875 Validation Accuracy: 0.3482\n",
      "Epoch  5, CIFAR-10 Batch 1:  Loss: 1.6807 Validation Accuracy: 0.3762\n",
      "Epoch  6, CIFAR-10 Batch 1:  Loss: 1.5900 Validation Accuracy: 0.3966\n",
      "Epoch  7, CIFAR-10 Batch 1:  Loss: 1.3882 Validation Accuracy: 0.4584\n",
      "Epoch  8, CIFAR-10 Batch 1:  Loss: 1.3238 Validation Accuracy: 0.4592\n",
      "Epoch  9, CIFAR-10 Batch 1:  Loss: 1.2320 Validation Accuracy: 0.5054\n",
      "Epoch 10, CIFAR-10 Batch 1:  Loss: 1.1893 Validation Accuracy: 0.5158\n",
      "Epoch 11, CIFAR-10 Batch 1:  Loss: 1.0633 Validation Accuracy: 0.5312\n",
      "Epoch 12, CIFAR-10 Batch 1:  Loss: 1.0060 Validation Accuracy: 0.5358\n",
      "Epoch 13, CIFAR-10 Batch 1:  Loss: 0.8702 Validation Accuracy: 0.5558\n",
      "Epoch 14, CIFAR-10 Batch 1:  Loss: 0.8225 Validation Accuracy: 0.5596\n",
      "Epoch 15, CIFAR-10 Batch 1:  Loss: 0.7346 Validation Accuracy: 0.5562\n",
      "Epoch 16, CIFAR-10 Batch 1:  Loss: 0.6637 Validation Accuracy: 0.5734\n",
      "Epoch 17, CIFAR-10 Batch 1:  Loss: 0.5587 Validation Accuracy: 0.5722\n",
      "Epoch 18, CIFAR-10 Batch 1:  Loss: 0.5135 Validation Accuracy: 0.5594\n",
      "Epoch 19, CIFAR-10 Batch 1:  Loss: 0.4766 Validation Accuracy: 0.5842\n",
      "Epoch 20, CIFAR-10 Batch 1:  Loss: 0.5029 Validation Accuracy: 0.5432\n",
      "Epoch 21, CIFAR-10 Batch 1:  Loss: 0.3646 Validation Accuracy: 0.5652\n",
      "Epoch 22, CIFAR-10 Batch 1:  Loss: 0.2838 Validation Accuracy: 0.5794\n",
      "Epoch 23, CIFAR-10 Batch 1:  Loss: 0.2715 Validation Accuracy: 0.5658\n",
      "Epoch 24, CIFAR-10 Batch 1:  Loss: 0.1922 Validation Accuracy: 0.5832\n",
      "Epoch 25, CIFAR-10 Batch 1:  Loss: 0.1255 Validation Accuracy: 0.6000\n",
      "Epoch 26, CIFAR-10 Batch 1:  Loss: 0.0950 Validation Accuracy: 0.5944\n",
      "Epoch 27, CIFAR-10 Batch 1:  Loss: 0.0665 Validation Accuracy: 0.5936\n",
      "Epoch 28, CIFAR-10 Batch 1:  Loss: 0.0611 Validation Accuracy: 0.5772\n",
      "Epoch 29, CIFAR-10 Batch 1:  Loss: 0.0409 Validation Accuracy: 0.5860\n",
      "Epoch 30, CIFAR-10 Batch 1:  Loss: 0.0928 Validation Accuracy: 0.5542\n"
     ]
    }
   ],
   "source": [
    "\"\"\"\n",
    "DON'T MODIFY ANYTHING IN THIS CELL\n",
    "\"\"\"\n",
    "print('Checking the Training on a Single Batch...')\n",
    "with tf.Session() as sess:\n",
    "    # Initializing the variables\n",
    "    sess.run(tf.global_variables_initializer())\n",
    "    \n",
    "    # Training cycle\n",
    "    for epoch in range(epochs):\n",
    "        batch_i = 1\n",
    "        for batch_features, batch_labels in helper.load_preprocess_training_batch(batch_i, batch_size):\n",
    "            train_neural_network(sess, optimizer, keep_probability, batch_features, batch_labels)\n",
    "        print('Epoch {:>2}, CIFAR-10 Batch {}:  '.format(epoch + 1, batch_i), end='')\n",
    "        print_stats(sess, batch_features, batch_labels, cost, accuracy)"
   ]
  },
  {
   "cell_type": "markdown",
   "metadata": {
    "deletable": true,
    "editable": true
   },
   "source": [
    "### Fully Train the Model\n",
    "Now that you got a good accuracy with a single CIFAR-10 batch, try it with all five batches."
   ]
  },
  {
   "cell_type": "code",
   "execution_count": 19,
   "metadata": {
    "collapsed": false,
    "deletable": true,
    "editable": true
   },
   "outputs": [
    {
     "name": "stdout",
     "output_type": "stream",
     "text": [
      "Training...\n",
      "Epoch  1, CIFAR-10 Batch 1:  Loss: 2.2368 Validation Accuracy: 0.2006\n",
      "Epoch  1, CIFAR-10 Batch 2:  Loss: 2.0046 Validation Accuracy: 0.2652\n",
      "Epoch  1, CIFAR-10 Batch 3:  Loss: 1.7906 Validation Accuracy: 0.3198\n",
      "Epoch  1, CIFAR-10 Batch 4:  Loss: 1.7880 Validation Accuracy: 0.3414\n",
      "Epoch  1, CIFAR-10 Batch 5:  Loss: 1.6600 Validation Accuracy: 0.4056\n",
      "Epoch  2, CIFAR-10 Batch 1:  Loss: 1.4981 Validation Accuracy: 0.4462\n",
      "Epoch  2, CIFAR-10 Batch 2:  Loss: 1.4503 Validation Accuracy: 0.4674\n",
      "Epoch  2, CIFAR-10 Batch 3:  Loss: 1.3143 Validation Accuracy: 0.4882\n",
      "Epoch  2, CIFAR-10 Batch 4:  Loss: 1.3152 Validation Accuracy: 0.4986\n",
      "Epoch  2, CIFAR-10 Batch 5:  Loss: 1.2737 Validation Accuracy: 0.5238\n",
      "Epoch  3, CIFAR-10 Batch 1:  Loss: 1.2516 Validation Accuracy: 0.5188\n",
      "Epoch  3, CIFAR-10 Batch 2:  Loss: 1.2195 Validation Accuracy: 0.5470\n",
      "Epoch  3, CIFAR-10 Batch 3:  Loss: 1.1366 Validation Accuracy: 0.5428\n",
      "Epoch  3, CIFAR-10 Batch 4:  Loss: 1.0750 Validation Accuracy: 0.5746\n",
      "Epoch  3, CIFAR-10 Batch 5:  Loss: 1.0515 Validation Accuracy: 0.5910\n",
      "Epoch  4, CIFAR-10 Batch 1:  Loss: 1.0398 Validation Accuracy: 0.5920\n",
      "Epoch  4, CIFAR-10 Batch 2:  Loss: 1.0238 Validation Accuracy: 0.6090\n",
      "Epoch  4, CIFAR-10 Batch 3:  Loss: 0.9918 Validation Accuracy: 0.6028\n",
      "Epoch  4, CIFAR-10 Batch 4:  Loss: 0.9046 Validation Accuracy: 0.6268\n",
      "Epoch  4, CIFAR-10 Batch 5:  Loss: 0.8744 Validation Accuracy: 0.6250\n",
      "Epoch  5, CIFAR-10 Batch 1:  Loss: 0.8641 Validation Accuracy: 0.6386\n",
      "Epoch  5, CIFAR-10 Batch 2:  Loss: 0.8489 Validation Accuracy: 0.6452\n",
      "Epoch  5, CIFAR-10 Batch 3:  Loss: 0.8162 Validation Accuracy: 0.6522\n",
      "Epoch  5, CIFAR-10 Batch 4:  Loss: 0.7347 Validation Accuracy: 0.6612\n",
      "Epoch  5, CIFAR-10 Batch 5:  Loss: 0.7200 Validation Accuracy: 0.6570\n",
      "Epoch  6, CIFAR-10 Batch 1:  Loss: 0.7401 Validation Accuracy: 0.6620\n",
      "Epoch  6, CIFAR-10 Batch 2:  Loss: 0.7293 Validation Accuracy: 0.6684\n",
      "Epoch  6, CIFAR-10 Batch 3:  Loss: 0.7214 Validation Accuracy: 0.6572\n",
      "Epoch  6, CIFAR-10 Batch 4:  Loss: 0.6683 Validation Accuracy: 0.6622\n",
      "Epoch  6, CIFAR-10 Batch 5:  Loss: 0.6135 Validation Accuracy: 0.6742\n",
      "Epoch  7, CIFAR-10 Batch 1:  Loss: 0.6351 Validation Accuracy: 0.6754\n",
      "Epoch  7, CIFAR-10 Batch 2:  Loss: 0.6701 Validation Accuracy: 0.6742\n",
      "Epoch  7, CIFAR-10 Batch 3:  Loss: 0.5969 Validation Accuracy: 0.6852\n",
      "Epoch  7, CIFAR-10 Batch 4:  Loss: 0.6424 Validation Accuracy: 0.6596\n",
      "Epoch  7, CIFAR-10 Batch 5:  Loss: 0.5712 Validation Accuracy: 0.6866\n",
      "Epoch  8, CIFAR-10 Batch 1:  Loss: 0.5757 Validation Accuracy: 0.6758\n",
      "Epoch  8, CIFAR-10 Batch 2:  Loss: 0.5408 Validation Accuracy: 0.6994\n",
      "Epoch  8, CIFAR-10 Batch 3:  Loss: 0.5282 Validation Accuracy: 0.6918\n",
      "Epoch  8, CIFAR-10 Batch 4:  Loss: 0.4385 Validation Accuracy: 0.7032\n",
      "Epoch  8, CIFAR-10 Batch 5:  Loss: 0.4220 Validation Accuracy: 0.7034\n",
      "Epoch  9, CIFAR-10 Batch 1:  Loss: 0.4766 Validation Accuracy: 0.6826\n",
      "Epoch  9, CIFAR-10 Batch 2:  Loss: 0.4755 Validation Accuracy: 0.6960\n",
      "Epoch  9, CIFAR-10 Batch 3:  Loss: 0.4526 Validation Accuracy: 0.6910\n",
      "Epoch  9, CIFAR-10 Batch 4:  Loss: 0.3788 Validation Accuracy: 0.7092\n",
      "Epoch  9, CIFAR-10 Batch 5:  Loss: 0.3480 Validation Accuracy: 0.7060\n",
      "Epoch 10, CIFAR-10 Batch 1:  Loss: 0.5714 Validation Accuracy: 0.6336\n",
      "Epoch 10, CIFAR-10 Batch 2:  Loss: 0.4968 Validation Accuracy: 0.6766\n",
      "Epoch 10, CIFAR-10 Batch 3:  Loss: 0.3650 Validation Accuracy: 0.7170\n",
      "Epoch 10, CIFAR-10 Batch 4:  Loss: 0.3226 Validation Accuracy: 0.7046\n",
      "Epoch 10, CIFAR-10 Batch 5:  Loss: 0.2958 Validation Accuracy: 0.7084\n",
      "Epoch 11, CIFAR-10 Batch 1:  Loss: 0.3540 Validation Accuracy: 0.6900\n",
      "Epoch 11, CIFAR-10 Batch 2:  Loss: 0.3445 Validation Accuracy: 0.7014\n",
      "Epoch 11, CIFAR-10 Batch 3:  Loss: 0.2933 Validation Accuracy: 0.7194\n",
      "Epoch 11, CIFAR-10 Batch 4:  Loss: 0.3045 Validation Accuracy: 0.6940\n",
      "Epoch 11, CIFAR-10 Batch 5:  Loss: 0.2504 Validation Accuracy: 0.7032\n",
      "Epoch 12, CIFAR-10 Batch 1:  Loss: 0.2445 Validation Accuracy: 0.7214\n",
      "Epoch 12, CIFAR-10 Batch 2:  Loss: 0.2897 Validation Accuracy: 0.7038\n",
      "Epoch 12, CIFAR-10 Batch 3:  Loss: 0.2199 Validation Accuracy: 0.7208\n",
      "Epoch 12, CIFAR-10 Batch 4:  Loss: 0.2097 Validation Accuracy: 0.7046\n",
      "Epoch 12, CIFAR-10 Batch 5:  Loss: 0.1872 Validation Accuracy: 0.7068\n",
      "Epoch 13, CIFAR-10 Batch 1:  Loss: 0.1962 Validation Accuracy: 0.7172\n",
      "Epoch 13, CIFAR-10 Batch 2:  Loss: 0.2189 Validation Accuracy: 0.7038\n",
      "Epoch 13, CIFAR-10 Batch 3:  Loss: 0.1797 Validation Accuracy: 0.7120\n",
      "Epoch 13, CIFAR-10 Batch 4:  Loss: 0.1440 Validation Accuracy: 0.7154\n",
      "Epoch 13, CIFAR-10 Batch 5:  Loss: 0.1917 Validation Accuracy: 0.6876\n",
      "Epoch 14, CIFAR-10 Batch 1:  Loss: 0.1865 Validation Accuracy: 0.7168\n",
      "Epoch 14, CIFAR-10 Batch 2:  Loss: 0.1579 Validation Accuracy: 0.7150\n",
      "Epoch 14, CIFAR-10 Batch 3:  Loss: 0.1114 Validation Accuracy: 0.7198\n",
      "Epoch 14, CIFAR-10 Batch 4:  Loss: 0.0960 Validation Accuracy: 0.7212\n",
      "Epoch 14, CIFAR-10 Batch 5:  Loss: 0.1255 Validation Accuracy: 0.7184\n",
      "Epoch 15, CIFAR-10 Batch 1:  Loss: 0.1601 Validation Accuracy: 0.7048\n",
      "Epoch 15, CIFAR-10 Batch 2:  Loss: 0.1317 Validation Accuracy: 0.7044\n",
      "Epoch 15, CIFAR-10 Batch 3:  Loss: 0.0948 Validation Accuracy: 0.7262\n",
      "Epoch 15, CIFAR-10 Batch 4:  Loss: 0.0667 Validation Accuracy: 0.7214\n",
      "Epoch 15, CIFAR-10 Batch 5:  Loss: 0.1150 Validation Accuracy: 0.7080\n",
      "Epoch 16, CIFAR-10 Batch 1:  Loss: 0.1255 Validation Accuracy: 0.6958\n",
      "Epoch 16, CIFAR-10 Batch 2:  Loss: 0.0939 Validation Accuracy: 0.7200\n",
      "Epoch 16, CIFAR-10 Batch 3:  Loss: 0.0912 Validation Accuracy: 0.7212\n",
      "Epoch 16, CIFAR-10 Batch 4:  Loss: 0.0631 Validation Accuracy: 0.7142\n",
      "Epoch 16, CIFAR-10 Batch 5:  Loss: 0.0668 Validation Accuracy: 0.7200\n",
      "Epoch 17, CIFAR-10 Batch 1:  Loss: 0.0654 Validation Accuracy: 0.7136\n",
      "Epoch 17, CIFAR-10 Batch 2:  Loss: 0.0684 Validation Accuracy: 0.7086\n",
      "Epoch 17, CIFAR-10 Batch 3:  Loss: 0.0601 Validation Accuracy: 0.7206\n",
      "Epoch 17, CIFAR-10 Batch 4:  Loss: 0.0464 Validation Accuracy: 0.7174\n",
      "Epoch 17, CIFAR-10 Batch 5:  Loss: 0.0328 Validation Accuracy: 0.7270\n",
      "Epoch 18, CIFAR-10 Batch 1:  Loss: 0.0630 Validation Accuracy: 0.7238\n",
      "Epoch 18, CIFAR-10 Batch 2:  Loss: 0.0401 Validation Accuracy: 0.7246\n",
      "Epoch 18, CIFAR-10 Batch 3:  Loss: 0.0433 Validation Accuracy: 0.7118\n",
      "Epoch 18, CIFAR-10 Batch 4:  Loss: 0.0257 Validation Accuracy: 0.7228\n",
      "Epoch 18, CIFAR-10 Batch 5:  Loss: 0.0321 Validation Accuracy: 0.7206\n",
      "Epoch 19, CIFAR-10 Batch 1:  Loss: 0.0431 Validation Accuracy: 0.7198\n",
      "Epoch 19, CIFAR-10 Batch 2:  Loss: 0.0372 Validation Accuracy: 0.7288\n",
      "Epoch 19, CIFAR-10 Batch 3:  Loss: 0.0418 Validation Accuracy: 0.7096\n",
      "Epoch 19, CIFAR-10 Batch 4:  Loss: 0.0303 Validation Accuracy: 0.7164\n",
      "Epoch 19, CIFAR-10 Batch 5:  Loss: 0.0202 Validation Accuracy: 0.7086\n",
      "Epoch 20, CIFAR-10 Batch 1:  Loss: 0.0495 Validation Accuracy: 0.7068\n",
      "Epoch 20, CIFAR-10 Batch 2:  Loss: 0.0311 Validation Accuracy: 0.7164\n",
      "Epoch 20, CIFAR-10 Batch 3:  Loss: 0.0347 Validation Accuracy: 0.7196\n",
      "Epoch 20, CIFAR-10 Batch 4:  Loss: 0.0291 Validation Accuracy: 0.7042\n",
      "Epoch 20, CIFAR-10 Batch 5:  Loss: 0.0200 Validation Accuracy: 0.7170\n",
      "Epoch 21, CIFAR-10 Batch 1:  Loss: 0.0655 Validation Accuracy: 0.7010\n",
      "Epoch 21, CIFAR-10 Batch 2:  Loss: 0.0231 Validation Accuracy: 0.7194\n",
      "Epoch 21, CIFAR-10 Batch 3:  Loss: 0.0266 Validation Accuracy: 0.7134\n",
      "Epoch 21, CIFAR-10 Batch 4:  Loss: 0.0191 Validation Accuracy: 0.7294\n",
      "Epoch 21, CIFAR-10 Batch 5:  Loss: 0.0240 Validation Accuracy: 0.7122\n",
      "Epoch 22, CIFAR-10 Batch 1:  Loss: 0.0152 Validation Accuracy: 0.7292\n",
      "Epoch 22, CIFAR-10 Batch 2:  Loss: 0.0121 Validation Accuracy: 0.7242\n",
      "Epoch 22, CIFAR-10 Batch 3:  Loss: 0.0156 Validation Accuracy: 0.7200\n",
      "Epoch 22, CIFAR-10 Batch 4:  Loss: 0.0130 Validation Accuracy: 0.7246\n",
      "Epoch 22, CIFAR-10 Batch 5:  Loss: 0.0075 Validation Accuracy: 0.7192\n",
      "Epoch 23, CIFAR-10 Batch 1:  Loss: 0.0157 Validation Accuracy: 0.7204\n",
      "Epoch 23, CIFAR-10 Batch 2:  Loss: 0.0096 Validation Accuracy: 0.7286\n",
      "Epoch 23, CIFAR-10 Batch 3:  Loss: 0.0112 Validation Accuracy: 0.7250\n",
      "Epoch 23, CIFAR-10 Batch 4:  Loss: 0.0179 Validation Accuracy: 0.7192\n",
      "Epoch 23, CIFAR-10 Batch 5:  Loss: 0.0154 Validation Accuracy: 0.7174\n",
      "Epoch 24, CIFAR-10 Batch 1:  Loss: 0.0076 Validation Accuracy: 0.7256\n",
      "Epoch 24, CIFAR-10 Batch 2:  Loss: 0.0078 Validation Accuracy: 0.7374\n",
      "Epoch 24, CIFAR-10 Batch 3:  Loss: 0.0077 Validation Accuracy: 0.7322\n",
      "Epoch 24, CIFAR-10 Batch 4:  Loss: 0.0055 Validation Accuracy: 0.7320\n",
      "Epoch 24, CIFAR-10 Batch 5:  Loss: 0.0054 Validation Accuracy: 0.7282\n",
      "Epoch 25, CIFAR-10 Batch 1:  Loss: 0.0071 Validation Accuracy: 0.7322\n",
      "Epoch 25, CIFAR-10 Batch 2:  Loss: 0.0052 Validation Accuracy: 0.7322\n",
      "Epoch 25, CIFAR-10 Batch 3:  Loss: 0.0076 Validation Accuracy: 0.7378\n",
      "Epoch 25, CIFAR-10 Batch 4:  Loss: 0.0048 Validation Accuracy: 0.7286\n",
      "Epoch 25, CIFAR-10 Batch 5:  Loss: 0.0081 Validation Accuracy: 0.7208\n",
      "Epoch 26, CIFAR-10 Batch 1:  Loss: 0.0091 Validation Accuracy: 0.7206\n",
      "Epoch 26, CIFAR-10 Batch 2:  Loss: 0.0048 Validation Accuracy: 0.7362\n",
      "Epoch 26, CIFAR-10 Batch 3:  Loss: 0.0052 Validation Accuracy: 0.7348\n",
      "Epoch 26, CIFAR-10 Batch 4:  Loss: 0.0058 Validation Accuracy: 0.7170\n",
      "Epoch 26, CIFAR-10 Batch 5:  Loss: 0.0077 Validation Accuracy: 0.7286\n",
      "Epoch 27, CIFAR-10 Batch 1:  Loss: 0.0090 Validation Accuracy: 0.7260\n",
      "Epoch 27, CIFAR-10 Batch 2:  Loss: 0.0111 Validation Accuracy: 0.7260\n",
      "Epoch 27, CIFAR-10 Batch 3:  Loss: 0.0095 Validation Accuracy: 0.7288\n",
      "Epoch 27, CIFAR-10 Batch 4:  Loss: 0.0072 Validation Accuracy: 0.7220\n",
      "Epoch 27, CIFAR-10 Batch 5:  Loss: 0.0074 Validation Accuracy: 0.7256\n",
      "Epoch 28, CIFAR-10 Batch 1:  Loss: 0.0042 Validation Accuracy: 0.7276\n",
      "Epoch 28, CIFAR-10 Batch 2:  Loss: 0.0041 Validation Accuracy: 0.7308\n",
      "Epoch 28, CIFAR-10 Batch 3:  Loss: 0.0052 Validation Accuracy: 0.7352\n",
      "Epoch 28, CIFAR-10 Batch 4:  Loss: 0.0029 Validation Accuracy: 0.7314\n",
      "Epoch 28, CIFAR-10 Batch 5:  Loss: 0.0038 Validation Accuracy: 0.7266\n",
      "Epoch 29, CIFAR-10 Batch 1:  Loss: 0.0053 Validation Accuracy: 0.7230\n",
      "Epoch 29, CIFAR-10 Batch 2:  Loss: 0.0067 Validation Accuracy: 0.7242\n",
      "Epoch 29, CIFAR-10 Batch 3:  Loss: 0.0060 Validation Accuracy: 0.7274\n",
      "Epoch 29, CIFAR-10 Batch 4:  Loss: 0.0049 Validation Accuracy: 0.7324\n",
      "Epoch 29, CIFAR-10 Batch 5:  Loss: 0.0054 Validation Accuracy: 0.7294\n",
      "Epoch 30, CIFAR-10 Batch 1:  Loss: 0.0029 Validation Accuracy: 0.7408\n",
      "Epoch 30, CIFAR-10 Batch 2:  Loss: 0.0048 Validation Accuracy: 0.7312\n",
      "Epoch 30, CIFAR-10 Batch 3:  Loss: 0.0040 Validation Accuracy: 0.7344\n",
      "Epoch 30, CIFAR-10 Batch 4:  Loss: 0.0020 Validation Accuracy: 0.7340\n",
      "Epoch 30, CIFAR-10 Batch 5:  Loss: 0.0047 Validation Accuracy: 0.7302\n"
     ]
    }
   ],
   "source": [
    "\"\"\"\n",
    "DON'T MODIFY ANYTHING IN THIS CELL\n",
    "\"\"\"\n",
    "save_model_path = './image_classification'\n",
    "\n",
    "print('Training...')\n",
    "with tf.Session() as sess:\n",
    "    # Initializing the variables\n",
    "    sess.run(tf.global_variables_initializer())\n",
    "    \n",
    "    # Training cycle\n",
    "    for epoch in range(epochs):\n",
    "        # Loop over all batches\n",
    "        n_batches = 5\n",
    "        for batch_i in range(1, n_batches + 1):\n",
    "            for batch_features, batch_labels in helper.load_preprocess_training_batch(batch_i, batch_size):\n",
    "                train_neural_network(sess, optimizer, keep_probability, batch_features, batch_labels)\n",
    "            print('Epoch {:>2}, CIFAR-10 Batch {}:  '.format(epoch + 1, batch_i), end='')\n",
    "            print_stats(sess, batch_features, batch_labels, cost, accuracy)\n",
    "            \n",
    "    # Save Model\n",
    "    saver = tf.train.Saver()\n",
    "    save_path = saver.save(sess, save_model_path)"
   ]
  },
  {
   "cell_type": "markdown",
   "metadata": {
    "deletable": true,
    "editable": true
   },
   "source": [
    "# Checkpoint\n",
    "The model has been saved to disk.\n",
    "## Test Model\n",
    "Test your model against the test dataset.  This will be your final accuracy. You should have an accuracy greater than 50%. If you don't, keep tweaking the model architecture and parameters."
   ]
  },
  {
   "cell_type": "code",
   "execution_count": 20,
   "metadata": {
    "collapsed": false,
    "deletable": true,
    "editable": true
   },
   "outputs": [
    {
     "name": "stdout",
     "output_type": "stream",
     "text": [
      "Testing Accuracy: 0.7230947017669678\n",
      "\n"
     ]
    },
    {
     "data": {
      "image/png": "[encoded data removed]",
      "text/plain": [
       "<matplotlib.figure.Figure at 0x7f29fceaaef0>"
      ]
     },
     "metadata": {
      "image/png": {
       "height": 319,
       "width": 353
      }
     },
     "output_type": "display_data"
    }
   ],
   "source": [
    "\"\"\"\n",
    "DON'T MODIFY ANYTHING IN THIS CELL\n",
    "\"\"\"\n",
    "%matplotlib inline\n",
    "%config InlineBackend.figure_format = 'retina'\n",
    "\n",
    "import tensorflow as tf\n",
    "import pickle\n",
    "import helper\n",
    "import random\n",
    "\n",
    "# Set batch size if not already set\n",
    "try:\n",
    "    if batch_size:\n",
    "        pass\n",
    "except NameError:\n",
    "    batch_size = 64\n",
    "\n",
    "save_model_path = './image_classification'\n",
    "n_samples = 4\n",
    "top_n_predictions = 3\n",
    "\n",
    "def test_model():\n",
    "    \"\"\"\n",
    "    Test the saved model against the test dataset\n",
    "    \"\"\"\n",
    "\n",
    "    test_features, test_labels = pickle.load(open('preprocess_training.p', mode='rb'))\n",
    "    loaded_graph = tf.Graph()\n",
    "\n",
    "    with tf.Session(graph=loaded_graph) as sess:\n",
    "        # Load model\n",
    "        loader = tf.train.import_meta_graph(save_model_path + '.meta')\n",
    "        loader.restore(sess, save_model_path)\n",
    "\n",
    "        # Get Tensors from loaded model\n",
    "        loaded_x = loaded_graph.get_tensor_by_name('x:0')\n",
    "        loaded_y = loaded_graph.get_tensor_by_name('y:0')\n",
    "        loaded_keep_prob = loaded_graph.get_tensor_by_name('keep_prob:0')\n",
    "        loaded_logits = loaded_graph.get_tensor_by_name('logits:0')\n",
    "        loaded_acc = loaded_graph.get_tensor_by_name('accuracy:0')\n",
    "        \n",
    "        # Get accuracy in batches for memory limitations\n",
    "        test_batch_acc_total = 0\n",
    "        test_batch_count = 0\n",
    "        \n",
    "        for train_feature_batch, train_label_batch in helper.batch_features_labels(test_features, test_labels, batch_size):\n",
    "            test_batch_acc_total += sess.run(\n",
    "                loaded_acc,\n",
    "                feed_dict={loaded_x: train_feature_batch, loaded_y: train_label_batch, loaded_keep_prob: 1.0})\n",
    "            test_batch_count += 1\n",
    "\n",
    "        print('Testing Accuracy: {}\\n'.format(test_batch_acc_total/test_batch_count))\n",
    "\n",
    "        # Print Random Samples\n",
    "        random_test_features, random_test_labels = tuple(zip(*random.sample(list(zip(test_features, test_labels)), n_samples)))\n",
    "        random_test_predictions = sess.run(\n",
    "            tf.nn.top_k(tf.nn.softmax(loaded_logits), top_n_predictions),\n",
    "            feed_dict={loaded_x: random_test_features, loaded_y: random_test_labels, loaded_keep_prob: 1.0})\n",
    "        helper.display_image_predictions(random_test_features, random_test_labels, random_test_predictions)\n",
    "\n",
    "\n",
    "test_model()"
   ]
  },
  {
   "cell_type": "markdown",
   "metadata": {
    "deletable": true,
    "editable": true
   },
   "source": [
    "## Why 50-80% Accuracy?\n",
    "You might be wondering why you can't get an accuracy any higher. First things first, 50% isn't bad for a simple CNN.  Pure guessing would get you 10% accuracy. However, you might notice people are getting scores [well above 80%](http://rodrigob.github.io/are_we_there_yet/build/classification_datasets_results.html#43494641522d3130).  That's because we haven't taught you all there is to know about neural networks. We still need to cover a few more techniques.\n",
    "## Submitting This Project\n",
    "When submitting this project, make sure to run all the cells before saving the notebook.  Save the notebook file as \"dlnd_image_classification.ipynb\" and save it as a HTML file under \"File\" -> \"Download as\".  Include the \"helper.py\" and \"problem_unittests.py\" files in your submission."
   ]
  }
 ],
 "metadata": {
  "kernelspec": {
   "display_name": "Python 3",
   "language": "python",
   "name": "python3"
  },
  "language_info": {
   "codemirror_mode": {
    "name": "ipython",
    "version": 3
   },
   "file_extension": ".py",
   "mimetype": "text/x-python",
   "name": "python",
   "nbconvert_exporter": "python",
   "pygments_lexer": "ipython3",
   "version": "3.5.2"
  },
  "widgets": {
   "state": {},
   "version": "1.1.2"
  }
 },
 "nbformat": 4,
 "nbformat_minor": 0
}
